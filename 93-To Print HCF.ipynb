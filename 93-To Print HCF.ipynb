{
 "cells": [
  {
   "cell_type": "markdown",
   "metadata": {
    "id": "m57Z9Aq1qx2z"
   },
   "source": [
    "# Python program to print Highest Common Factor (HCF) of two numbers"
   ]
  },
  {
   "cell_type": "code",
   "execution_count": 1,
   "metadata": {
    "colab": {
     "base_uri": "https://localhost:8080/",
     "height": 54
    },
    "id": "khyxyWWBqx20",
    "outputId": "c4883331-8436-4ef8-c939-0f7bc26a6229"
   },
   "outputs": [
    {
     "name": "stdout",
     "output_type": "stream",
     "text": [
      "H.C.F of 6 and 36 is: 6\n"
     ]
    }
   ],
   "source": [
    "def computeHCF(a, b):\n",
    "    \"\"\"\n",
    "    Computing HCF of two numbers\n",
    "    \"\"\"\n",
    "    smaller = b if a > b else a  #consice way of writing if else statement\n",
    "    \n",
    "    hcf = 1\n",
    "    for i in range(1, smaller+1):\n",
    "        if (a % i == 0) and (b % i == 0):\n",
    "            hcf = i\n",
    "    return hcf\n",
    "\n",
    "num1 = 6\n",
    "num2 = 36\n",
    "\n",
    "print(\"H.C.F of {0} and {1} is: {2}\".format(num1, num2, computeHCF(num1, num2)))"
   ]
  },
  {
   "cell_type": "code",
   "execution_count": 4,
   "metadata": {},
   "outputs": [
    {
     "name": "stdout",
     "output_type": "stream",
     "text": [
      "HCF of  8 and 12 is 4\n"
     ]
    }
   ],
   "source": [
    "def calculateHCF(x,y):\n",
    "    if x > y:\n",
    "        smaller=y\n",
    "    else:\n",
    "        smaller=x\n",
    "    hcf=1\n",
    "    for i in range(1,smaller+1):\n",
    "        if (x % i == 0) and (y % i == 0):\n",
    "            hcf = i\n",
    "    return hcf\n",
    "numb1=int(input (\"Enter 1st Numner: \"))\n",
    "numb2=int(input (\"Enter 2nd Numner: \"))\n",
    "\n",
    "print(\"HCF of \", numb1, \"and\", numb2, \"is\", calculateHCF(numb1,numb2))\n"
   ]
  }
 ],
 "metadata": {
  "interpreter": {
   "hash": "35da0e7af20facfa8197b8e57e81ffb6303ada97f5e843dda4e90edb7a888d3e"
  },
  "kernelspec": {
   "display_name": "Python 3.10.4 64-bit",
   "language": "python",
   "name": "python3"
  },
  "language_info": {
   "codemirror_mode": {
    "name": "ipython",
    "version": 3
   },
   "file_extension": ".py",
   "mimetype": "text/x-python",
   "name": "python",
   "nbconvert_exporter": "python",
   "pygments_lexer": "ipython3",
   "version": "3.10.4"
  },
  "orig_nbformat": 4
 },
 "nbformat": 4,
 "nbformat_minor": 2
}
