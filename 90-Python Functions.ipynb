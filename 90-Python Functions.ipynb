{
 "cells": [
  {
   "cell_type": "markdown",
   "metadata": {
    "id": "W685A3V4qx1Q"
   },
   "source": [
    "# Python Functions"
   ]
  },
  {
   "cell_type": "markdown",
   "metadata": {
    "id": "iueQVnPGqx1U"
   },
   "source": [
    "Function is a group of related statements that perform a specific task."
   ]
  },
  {
   "cell_type": "markdown",
   "metadata": {
    "id": "wUB2YXtBqx1X"
   },
   "source": [
    "Functions help break our program into smaller and modular chunks. As our program grows larger and larger, functions make it more organized and manageable.\n",
    "\n",
    "It avoids repetition and makes code reusable."
   ]
  },
  {
   "cell_type": "markdown",
   "metadata": {
    "id": "LDZ6MpTwqx1a"
   },
   "source": [
    "# Syntax:"
   ]
  },
  {
   "cell_type": "markdown",
   "metadata": {
    "id": "EyqjxCEwqx1c"
   },
   "source": [
    "    def function_name(parameters):\n",
    "    \n",
    "        \"\"\"\n",
    "        Doc String\n",
    "        \"\"\"\n",
    "    \n",
    "        Statement(s)"
   ]
  },
  {
   "cell_type": "markdown",
   "metadata": {
    "id": "k4qKflh4qx1e"
   },
   "source": [
    "1. keyword \"def\" marks the start of function header\n",
    "\n",
    "2. Parameters (arguments) through which we pass values to a function. These are optional\n",
    "\n",
    "3. A colon(:) to mark the end of funciton header\n",
    "\n",
    "4. Doc string describe what the function does. This is optional\n",
    "\n",
    "5. \"return\" statement to return a value from the function. This is optional"
   ]
  },
  {
   "cell_type": "markdown",
   "metadata": {
    "id": "tHJhKoLgqx1h"
   },
   "source": [
    "# Example:"
   ]
  },
  {
   "cell_type": "code",
   "execution_count": 1,
   "metadata": {
    "id": "Y8D1p1eAqx1i"
   },
   "outputs": [],
   "source": [
    "def print_name(name):\n",
    "    \"\"\" \n",
    "    This function prints the name\n",
    "    \"\"\"\n",
    "    print(\"Hello \" + str(name)) \n",
    "    "
   ]
  },
  {
   "cell_type": "markdown",
   "metadata": {
    "id": "TDBBivd2qx1p"
   },
   "source": [
    "# Function Call"
   ]
  },
  {
   "cell_type": "markdown",
   "metadata": {
    "id": "Dseptsvoqx1q"
   },
   "source": [
    "Once we have defined a function, we can call it from anywhere"
   ]
  },
  {
   "cell_type": "code",
   "execution_count": 3,
   "metadata": {
    "id": "4CJ01FUpqx1t",
    "outputId": "183b4d32-4a77-4d0f-d475-2df249a8b621"
   },
   "outputs": [
    {
     "name": "stdout",
     "output_type": "stream",
     "text": [
      "Hello IHSAN\n"
     ]
    }
   ],
   "source": [
    "print_name('IHSAN')\n"
   ]
  }
 ],
 "metadata": {
  "interpreter": {
   "hash": "44521239eef91ef412533c9bf5709c0023e5a891475373b731fa1259c45b7d13"
  },
  "kernelspec": {
   "display_name": "Python 3.10.4 64-bit",
   "language": "python",
   "name": "python3"
  },
  "language_info": {
   "codemirror_mode": {
    "name": "ipython",
    "version": 3
   },
   "file_extension": ".py",
   "mimetype": "text/x-python",
   "name": "python",
   "nbconvert_exporter": "python",
   "pygments_lexer": "ipython3",
   "version": "3.10.4"
  },
  "orig_nbformat": 4
 },
 "nbformat": 4,
 "nbformat_minor": 2
}
