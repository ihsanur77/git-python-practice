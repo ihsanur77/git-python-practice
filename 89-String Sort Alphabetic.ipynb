{
 "cells": [
  {
   "cell_type": "markdown",
   "metadata": {
    "id": "TLQRLF-_Q0SQ"
   },
   "source": [
    "# Python Program to Sort Words in Alphabetic Order?"
   ]
  },
  {
   "cell_type": "code",
   "execution_count": 1,
   "metadata": {
    "id": "8c75-LV9Q0SS",
    "outputId": "1c220dee-b732-426d-938d-51308151ab72"
   },
   "outputs": [
    {
     "name": "stdout",
     "output_type": "stream",
     "text": [
      "Alphabetic\n",
      "Order\n",
      "Program\n",
      "Sort\n",
      "in\n",
      "python\n",
      "to\n",
      "words\n"
     ]
    }
   ],
   "source": [
    "myStr = \"python Program to Sort words in Alphabetic Order\"\n",
    "\n",
    "#breakdown the string into list of words\n",
    "words = myStr.split()\n",
    "\n",
    "#sort the list\n",
    "words.sort()\n",
    "\n",
    "#print Sorted words are\n",
    "for word in words:\n",
    "    print(word)"
   ]
  }
 ],
 "metadata": {
  "interpreter": {
   "hash": "44521239eef91ef412533c9bf5709c0023e5a891475373b731fa1259c45b7d13"
  },
  "kernelspec": {
   "display_name": "Python 3.10.4 64-bit",
   "language": "python",
   "name": "python3"
  },
  "language_info": {
   "codemirror_mode": {
    "name": "ipython",
    "version": 3
   },
   "file_extension": ".py",
   "mimetype": "text/x-python",
   "name": "python",
   "nbconvert_exporter": "python",
   "pygments_lexer": "ipython3",
   "version": "3.10.4"
  },
  "orig_nbformat": 4
 },
 "nbformat": 4,
 "nbformat_minor": 2
}
