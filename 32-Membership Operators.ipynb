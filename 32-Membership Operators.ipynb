{
 "cells": [
  {
   "cell_type": "markdown",
   "metadata": {},
   "source": [
    "# MemberShip Operators"
   ]
  },
  {
   "cell_type": "markdown",
   "metadata": {},
   "source": [
    "**in and not in** are the membership operators in Python. \n",
    "    \n",
    "They are used to test whether a value or variable is found in a sequence (string, list, tuple, set and   dictionary)."
   ]
  },
  {
   "cell_type": "code",
   "execution_count": 1,
   "metadata": {},
   "outputs": [
    {
     "name": "stdout",
     "output_type": "stream",
     "text": [
      "True\n"
     ]
    }
   ],
   "source": [
    "lst = [1, 2, 3, 4]\n",
    "print(1 in lst)       #check 1 is present in a given list or not\n",
    "\n",
    "#check 5 is present in a given list\n"
   ]
  },
  {
   "cell_type": "code",
   "execution_count": 2,
   "metadata": {},
   "outputs": [
    {
     "name": "stdout",
     "output_type": "stream",
     "text": [
      "True\n"
     ]
    }
   ],
   "source": [
    "d = {1: \"a\", 2: \"b\"}\n",
    "print(1 in d)"
   ]
  }
 ],
 "metadata": {
  "interpreter": {
   "hash": "44521239eef91ef412533c9bf5709c0023e5a891475373b731fa1259c45b7d13"
  },
  "kernelspec": {
   "display_name": "Python 3.10.4 64-bit",
   "language": "python",
   "name": "python3"
  },
  "language_info": {
   "codemirror_mode": {
    "name": "ipython",
    "version": 3
   },
   "file_extension": ".py",
   "mimetype": "text/x-python",
   "name": "python",
   "nbconvert_exporter": "python",
   "pygments_lexer": "ipython3",
   "version": "3.10.4"
  },
  "orig_nbformat": 4
 },
 "nbformat": 4,
 "nbformat_minor": 2
}
