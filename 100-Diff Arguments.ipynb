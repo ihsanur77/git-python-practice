{
 "cells": [
  {
   "cell_type": "markdown",
   "metadata": {
    "id": "BzHHwgCdJRxP"
   },
   "source": [
    "# Different Forms of Arguments"
   ]
  },
  {
   "cell_type": "markdown",
   "metadata": {
    "id": "CksOvu0JJRxQ"
   },
   "source": [
    "# 1. Default Arguments"
   ]
  },
  {
   "cell_type": "markdown",
   "metadata": {
    "id": "T23E9xJoJRxQ"
   },
   "source": [
    "We can provide a default value to an argument by using the assignment operator (=). "
   ]
  },
  {
   "cell_type": "code",
   "execution_count": 2,
   "metadata": {
    "id": "CFAS8GZ7JRxR",
    "outputId": "911739c0-8c52-4ea9-8ac0-c06762a141c1"
   },
   "outputs": [
    {
     "name": "stdout",
     "output_type": "stream",
     "text": [
      "Hello IHSAN , Good Night\n"
     ]
    }
   ],
   "source": [
    "def greet(name, msg=\"Good Morning\"):\n",
    "    \"\"\"\n",
    "    This function greets to person with the provided message\n",
    "    if message is not provided, it defaults to \"Good Morning\"\n",
    "    \"\"\"\n",
    "    print(\"Hello {0} , {1}\".format(name, msg))\n",
    "\n",
    "greet(\"IHSAN\", \"Good Night\")\n"
   ]
  },
  {
   "cell_type": "code",
   "execution_count": 3,
   "metadata": {
    "id": "L-VGeAvoJRxS",
    "outputId": "7dda33bb-7851-4cc9-c954-71e5ce0b005a"
   },
   "outputs": [
    {
     "name": "stdout",
     "output_type": "stream",
     "text": [
      "Hello IHSAN , Good Morning\n"
     ]
    }
   ],
   "source": [
    "#with out msg argument\n",
    "greet(\"IHSAN\")\n"
   ]
  },
  {
   "cell_type": "markdown",
   "metadata": {
    "id": "3jJg69PgJRxU"
   },
   "source": [
    "Once we have a default argument, all the arguments to its right must also have default values."
   ]
  },
  {
   "cell_type": "markdown",
   "metadata": {
    "id": "kvC03lIFJRxU"
   },
   "source": [
    "def greet(msg=\"Good Morning\", name)   \n",
    "\n",
    "#will get a SyntaxError : non-default argument follows default argument"
   ]
  },
  {
   "cell_type": "markdown",
   "metadata": {
    "id": "WDX2OrUKJRxV"
   },
   "source": [
    "# 2. Keyword Arguments"
   ]
  },
  {
   "cell_type": "markdown",
   "metadata": {
    "id": "Rt7Wjjk5JRxW"
   },
   "source": [
    "kwargs allows you to pass keyworded variable length of arguments to a function. You should use **kwargs if you want to handle named arguments in a function"
   ]
  },
  {
   "cell_type": "markdown",
   "metadata": {
    "id": "dSfi0ixQJRxW"
   },
   "source": [
    "# Example:"
   ]
  },
  {
   "cell_type": "code",
   "execution_count": 5,
   "metadata": {
    "id": "hAyL0iPrJRxX",
    "outputId": "a394a81a-251f-46da-a83e-57304f65706b"
   },
   "outputs": [
    {
     "name": "stdout",
     "output_type": "stream",
     "text": [
      "Hello IHSAN , Good Morning\n"
     ]
    }
   ],
   "source": [
    "def greet(**kwargs):\n",
    "    \"\"\"\n",
    "    This function greets to person with the provided message\n",
    "    \"\"\"\n",
    "    if kwargs:\n",
    "        print(\"Hello {0} , {1}\".format(kwargs['name'], kwargs['msg']))\n",
    "greet(name=\"IHSAN\", msg=\"Good Morning\")\n"
   ]
  },
  {
   "cell_type": "markdown",
   "metadata": {
    "id": "peD0sEQ2JRxY"
   },
   "source": [
    "# 3. Arbitary Arguments"
   ]
  },
  {
   "cell_type": "markdown",
   "metadata": {
    "id": "zcM0Px64JRxY"
   },
   "source": [
    "Sometimes, we do not know in advance the number of arguments that will be passed into a function.Python allows us to handle this kind of situation through function calls with arbitrary number of arguments."
   ]
  },
  {
   "cell_type": "markdown",
   "metadata": {
    "id": "FUyJdXVhJRxZ"
   },
   "source": [
    "# Example:"
   ]
  },
  {
   "cell_type": "code",
   "execution_count": 6,
   "metadata": {
    "id": "LiwrfzBqJRxZ",
    "outputId": "4ab97bf2-b692-485b-ade6-5003e4aa866e"
   },
   "outputs": [
    {
     "name": "stdout",
     "output_type": "stream",
     "text": [
      "('IHSAN', 'TANIV', 'TANVIR', 'ROZANEE')\n",
      "Hello,  IHSAN \n",
      "Hello,  TANIV \n",
      "Hello,  TANVIR \n",
      "Hello,  ROZANEE \n"
     ]
    }
   ],
   "source": [
    "def greet(*names):\n",
    "    \"\"\"\n",
    "    This function greets all persons in the names tuple \n",
    "    \"\"\"\n",
    "    print(names)\n",
    "    \n",
    "    for name in names:\n",
    "        print(\"Hello,  {0} \".format(name))\n",
    "\n",
    "greet(\"IHSAN\", \"TANIV\", \"TANVIR\", \"ROZANEE\")\n"
   ]
  }
 ],
 "metadata": {
  "interpreter": {
   "hash": "35da0e7af20facfa8197b8e57e81ffb6303ada97f5e843dda4e90edb7a888d3e"
  },
  "kernelspec": {
   "display_name": "Python 3.10.4 64-bit",
   "language": "python",
   "name": "python3"
  },
  "language_info": {
   "codemirror_mode": {
    "name": "ipython",
    "version": 3
   },
   "file_extension": ".py",
   "mimetype": "text/x-python",
   "name": "python",
   "nbconvert_exporter": "python",
   "pygments_lexer": "ipython3",
   "version": "3.10.4"
  },
  "orig_nbformat": 4
 },
 "nbformat": 4,
 "nbformat_minor": 2
}
