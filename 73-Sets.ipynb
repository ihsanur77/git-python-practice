{
 "cells": [
  {
   "cell_type": "markdown",
   "metadata": {
    "id": "nM8bElqgyll9"
   },
   "source": [
    "# Sets"
   ]
  },
  {
   "cell_type": "markdown",
   "metadata": {
    "id": "udCVmQaOylmA"
   },
   "source": [
    "-> A set is an unordered collection of items. Every element is unique (no duplicates).\n",
    "\n",
    "-> The set itself is mutable. We can add or remove items from it.\n",
    "\n",
    "-> Sets can be used to perform mathematical set operations like union, intersection, symmetric difference etc."
   ]
  },
  {
   "cell_type": "markdown",
   "metadata": {
    "id": "3iJHrQbuylmB"
   },
   "source": [
    "# Set Creation"
   ]
  },
  {
   "cell_type": "code",
   "execution_count": null,
   "metadata": {
    "id": "-s4U8jHrylmB",
    "outputId": "2f809772-51b5-4371-c078-a902bcbb5970"
   },
   "outputs": [
    {
     "name": "stdout",
     "output_type": "stream",
     "text": [
      "set([1, 2, 3])\n",
      "<type 'set'>\n"
     ]
    }
   ],
   "source": [
    "#set of integers\n",
    "s = {1, 2, 3}\n",
    "print(s)\n",
    "\n",
    "#print type of s \n",
    "print(type(s))"
   ]
  },
  {
   "cell_type": "code",
   "execution_count": null,
   "metadata": {
    "id": "Bfev3NSVylmD",
    "outputId": "835a8f9f-d375-426c-b98a-bdc461530db4"
   },
   "outputs": [
    {
     "name": "stdout",
     "output_type": "stream",
     "text": [
      "{1, 2, 3, 4}\n"
     ]
    }
   ],
   "source": [
    "#set doesn't allow duplicates. They store only one instance.\n",
    "s = {1, 2, 3, 1, 4}\n",
    "print(s)"
   ]
  },
  {
   "cell_type": "code",
   "execution_count": null,
   "metadata": {
    "id": "od0Ee-prylmD",
    "outputId": "17ff8cef-9658-4782-d7a6-c0d4b12cca07"
   },
   "outputs": [
    {
     "name": "stdout",
     "output_type": "stream",
     "text": [
      "{1, 2, 3}\n"
     ]
    }
   ],
   "source": [
    "#we can make set from a list\n",
    "s = set([1, 2, 3, 1])\n",
    "print(s)"
   ]
  },
  {
   "cell_type": "code",
   "execution_count": null,
   "metadata": {
    "id": "Qi5YXap-ylmE",
    "outputId": "f87a6a30-474c-4ded-a82d-3291ee0bea95"
   },
   "outputs": [
    {
     "name": "stdout",
     "output_type": "stream",
     "text": [
      "<class 'set'>\n"
     ]
    }
   ],
   "source": [
    "#initialize a set  with set() method\n",
    "s = set()\n",
    "\n",
    "print(type(s))"
   ]
  }
 ],
 "metadata": {
  "interpreter": {
   "hash": "44521239eef91ef412533c9bf5709c0023e5a891475373b731fa1259c45b7d13"
  },
  "kernelspec": {
   "display_name": "Python 3.10.4 64-bit",
   "language": "python",
   "name": "python3"
  },
  "language_info": {
   "name": "python",
   "version": "3.10.4"
  },
  "orig_nbformat": 4
 },
 "nbformat": 4,
 "nbformat_minor": 2
}
