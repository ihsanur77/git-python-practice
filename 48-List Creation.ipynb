{
 "cells": [
  {
   "cell_type": "markdown",
   "metadata": {
    "id": "NdXy-T5zaAaF"
   },
   "source": [
    "# Lists"
   ]
  },
  {
   "cell_type": "markdown",
   "metadata": {
    "id": "d2abr_4DaAaG"
   },
   "source": [
    "Data Structure:\n",
    "    \n",
    "A data structure is a collection of data elements (such as numbers or characters—or even other data structures) that is structured in some way, for example, by numbering the elements. The most basic data structure in Python is the \"sequence\"."
   ]
  },
  {
   "cell_type": "markdown",
   "metadata": {
    "id": "_OkL1n_saAaI"
   },
   "source": [
    "-> List is one of the Sequence Data structure\n",
    "\n",
    "-> Lists are collection of items (Strings, integers or even other lists)\n",
    "\n",
    "-> Lists are enclosed in [ ]\n",
    "\n",
    "-> Each item in the list has an assigned index value.\n",
    "\n",
    "-> Each item in a list is separated by a comma\n",
    "\n",
    "-> Lists are mutable, which means they can be changed.\n"
   ]
  },
  {
   "cell_type": "markdown",
   "metadata": {
    "collapsed": true,
    "id": "y6E87CNkaAaI"
   },
   "source": [
    "# List Creation"
   ]
  },
  {
   "cell_type": "code",
   "execution_count": 1,
   "metadata": {
    "id": "3xDIU3qfaAaJ",
    "outputId": "95be36e3-6048-4231-8b84-86ed03f92eb8"
   },
   "outputs": [
    {
     "name": "stdout",
     "output_type": "stream",
     "text": [
      "[1, 'ramu', 24, 1.24]\n"
     ]
    }
   ],
   "source": [
    "emptyList = []\n",
    "\n",
    "lst = ['one', 'two', 'three', 'four'] # list of strings\n",
    "\n",
    "lst2 = [1, 2, 3, 4] #list of integers\n",
    "\n",
    "lst3 = [[1, 2], [3, 4]] # list of lists\n",
    "\n",
    "lst4 = [1, 'ramu', 24, 1.24] # list of different datatypes\n",
    "\n",
    "print(lst4)\n"
   ]
  }
 ],
 "metadata": {
  "interpreter": {
   "hash": "44521239eef91ef412533c9bf5709c0023e5a891475373b731fa1259c45b7d13"
  },
  "kernelspec": {
   "display_name": "Python 3.10.4 64-bit",
   "language": "python",
   "name": "python3"
  },
  "language_info": {
   "codemirror_mode": {
    "name": "ipython",
    "version": 3
   },
   "file_extension": ".py",
   "mimetype": "text/x-python",
   "name": "python",
   "nbconvert_exporter": "python",
   "pygments_lexer": "ipython3",
   "version": "3.10.4"
  },
  "orig_nbformat": 4
 },
 "nbformat": 4,
 "nbformat_minor": 2
}
