{
 "cells": [
  {
   "cell_type": "markdown",
   "metadata": {
    "id": "eSy9HoGNIDuT"
   },
   "source": [
    "# Package"
   ]
  },
  {
   "cell_type": "markdown",
   "metadata": {
    "id": "pycXGnaJIDuX"
   },
   "source": [
    "Packages are a way of structuring Python’s module namespace by using “dotted module names”.\n",
    "\n",
    "A directory must contain a file named __init__.py in order for Python to consider it as a package. This file can be left empty but we generally place the initialization code for that package in this file."
   ]
  },
  {
   "cell_type": "markdown",
   "metadata": {
    "id": "WtehKvdMIDuY"
   },
   "source": [
    "![title](package.jpg)"
   ]
  },
  {
   "cell_type": "markdown",
   "metadata": {
    "id": "roWTfHf8IDuY"
   },
   "source": [
    "# importing module from a package"
   ]
  },
  {
   "cell_type": "markdown",
   "metadata": {
    "id": "tQzlWocvIDuZ"
   },
   "source": [
    "We can import modules from packages using the dot (.) operator."
   ]
  },
  {
   "cell_type": "code",
   "execution_count": null,
   "metadata": {
    "collapsed": true,
    "id": "Uwr9zEN5IDuZ"
   },
   "outputs": [],
   "source": [
    "# import Gate.Image.open "
   ]
  }
 ],
 "metadata": {
  "interpreter": {
   "hash": "35da0e7af20facfa8197b8e57e81ffb6303ada97f5e843dda4e90edb7a888d3e"
  },
  "kernelspec": {
   "display_name": "Python 3.10.4 64-bit",
   "language": "python",
   "name": "python3"
  },
  "language_info": {
   "name": "python",
   "version": "3.10.4"
  },
  "orig_nbformat": 4
 },
 "nbformat": 4,
 "nbformat_minor": 2
}
