{
 "cells": [
  {
   "cell_type": "markdown",
   "metadata": {
    "id": "9hwg-SFGkuwl"
   },
   "source": [
    "# Anonymous / Lambda Function"
   ]
  },
  {
   "cell_type": "markdown",
   "metadata": {
    "id": "T968WlfYkuwn"
   },
   "source": [
    "In Python, anonymous function is a function that is defined without a name.\n",
    "\n",
    "While normal functions are defined using the def keyword, in Python anonymous functions are defined using the lambda keyword.\n",
    "\n",
    "Lambda functions are used extensively along with built-in functions like filter(), map()"
   ]
  },
  {
   "cell_type": "markdown",
   "metadata": {
    "id": "W1J2Es82kuwp"
   },
   "source": [
    "syntax:\n",
    "    \n",
    "    lambda arguments: expression"
   ]
  },
  {
   "cell_type": "markdown",
   "metadata": {
    "id": "ELGfMrUQkuwq"
   },
   "source": [
    "# Example:"
   ]
  },
  {
   "cell_type": "code",
   "execution_count": 6,
   "metadata": {
    "colab": {
     "base_uri": "https://localhost:8080/",
     "height": 34
    },
    "id": "uPnqlXPkkuws",
    "outputId": "d7ee377f-ff25-4c45-ca42-dab7a182ea16"
   },
   "outputs": [
    {
     "name": "stdout",
     "output_type": "stream",
     "text": [
      "10\n"
     ]
    }
   ],
   "source": [
    "double = lambda x: x*2\n",
    "\n",
    "print(double(5))\n"
   ]
  },
  {
   "cell_type": "code",
   "execution_count": 7,
   "metadata": {
    "colab": {
     "base_uri": "https://localhost:8080/",
     "height": 34
    },
    "id": "E9CTFNv9kuw4",
    "outputId": "abea0398-f992-4042-fa77-c577b9ce3324"
   },
   "outputs": [
    {
     "name": "stdout",
     "output_type": "stream",
     "text": [
      "10\n"
     ]
    }
   ],
   "source": [
    "def double(x):\n",
    "    return x * 2\n",
    "\n",
    "print(double(5))\n"
   ]
  },
  {
   "cell_type": "code",
   "execution_count": 8,
   "metadata": {
    "colab": {
     "base_uri": "https://localhost:8080/",
     "height": 34
    },
    "id": "aahzcZxlkuw_",
    "outputId": "bc549d06-82d1-496f-ea3a-949aa2a80361"
   },
   "outputs": [
    {
     "name": "stdout",
     "output_type": "stream",
     "text": [
      "[2, 4]\n"
     ]
    }
   ],
   "source": [
    "#Example use with filter()\n",
    "lst = [1, 2, 3, 4, 5]\n",
    "even_lst = list(filter(lambda x: (x%2 == 0), lst))\n",
    "print(even_lst)\n"
   ]
  },
  {
   "cell_type": "code",
   "execution_count": 9,
   "metadata": {
    "colab": {
     "base_uri": "https://localhost:8080/",
     "height": 34
    },
    "id": "F9yMVkN7kuxE",
    "outputId": "292da7a6-2e1e-4901-f2e6-378ba5c5a8c5"
   },
   "outputs": [
    {
     "name": "stdout",
     "output_type": "stream",
     "text": [
      "[1, 4, 9, 16, 25]\n"
     ]
    }
   ],
   "source": [
    "#Example use with map()\n",
    "lst = [1, 2, 3, 4, 5]\n",
    "new_lst = list(map(lambda x: x ** 2, lst))\n",
    "print(new_lst)\n"
   ]
  },
  {
   "cell_type": "code",
   "execution_count": 10,
   "metadata": {
    "id": "HtOP0Q31kuxM",
    "outputId": "7d8689c8-2030-4e9e-974d-cc72369a678a"
   },
   "outputs": [
    {
     "name": "stdout",
     "output_type": "stream",
     "text": [
      "120\n"
     ]
    }
   ],
   "source": [
    "#Example use with reduce()\n",
    "from functools import reduce\n",
    "\n",
    "lst = [1, 2, 3, 4, 5]\n",
    "product_lst = reduce(lambda x, y: x*y, lst)\n",
    "print(product_lst)\n"
   ]
  }
 ],
 "metadata": {
  "interpreter": {
   "hash": "35da0e7af20facfa8197b8e57e81ffb6303ada97f5e843dda4e90edb7a888d3e"
  },
  "kernelspec": {
   "display_name": "Python 3.10.4 64-bit",
   "language": "python",
   "name": "python3"
  },
  "language_info": {
   "codemirror_mode": {
    "name": "ipython",
    "version": 3
   },
   "file_extension": ".py",
   "mimetype": "text/x-python",
   "name": "python",
   "nbconvert_exporter": "python",
   "pygments_lexer": "ipython3",
   "version": "3.10.4"
  },
  "orig_nbformat": 4
 },
 "nbformat": 4,
 "nbformat_minor": 2
}
