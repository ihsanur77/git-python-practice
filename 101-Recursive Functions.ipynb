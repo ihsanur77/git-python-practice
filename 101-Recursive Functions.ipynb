{
 "cells": [
  {
   "cell_type": "markdown",
   "metadata": {
    "id": "2un6HEflRbVI"
   },
   "source": [
    "# Recurison"
   ]
  },
  {
   "cell_type": "markdown",
   "metadata": {
    "id": "pouXX8gWRbVJ"
   },
   "source": [
    "We know that in Python, a function can call other functions. It is even possible for the function to call itself. These type of construct are termed as recursive functions."
   ]
  },
  {
   "cell_type": "markdown",
   "metadata": {
    "id": "ZVWIU4QvRbVK"
   },
   "source": [
    "# Example:"
   ]
  },
  {
   "cell_type": "code",
   "execution_count": 1,
   "metadata": {
    "colab": {
     "base_uri": "https://localhost:8080/",
     "height": 34
    },
    "id": "mnaRd5dzRbVL",
    "outputId": "f6f3bc7b-195a-489d-dd0b-b4eca5ea55b6"
   },
   "outputs": [
    {
     "name": "stdout",
     "output_type": "stream",
     "text": [
      "Factorial of 5 is 120\n"
     ]
    }
   ],
   "source": [
    "#python program to print factorial of a number using recurion\n",
    "\n",
    "def factorial(num):\n",
    "    \"\"\"\n",
    "    This is a recursive function to find the factorial of a given number\n",
    "    \"\"\"\n",
    "    return 1 if num == 1 else (num * factorial(num-1))\n",
    "\n",
    "num = 5\n",
    "print (\"Factorial of {0} is {1}\".format(num, factorial(num)))\n"
   ]
  },
  {
   "cell_type": "code",
   "execution_count": 2,
   "metadata": {},
   "outputs": [
    {
     "name": "stdout",
     "output_type": "stream",
     "text": [
      "Factorial of 20 is 2432902008176640000\n"
     ]
    }
   ],
   "source": [
    "#python program to print factorial of a number using recurion\n",
    "\n",
    "def factorial(num):\n",
    "    \"\"\"\n",
    "    This is a recursive function to find the factorial of a given number\n",
    "    \"\"\"\n",
    "    return 1 if num == 1 else (num * factorial(num-1))\n",
    "\n",
    "num = 20\n",
    "print (\"Factorial of {0} is {1}\".format(num, factorial(num)))\n"
   ]
  },
  {
   "cell_type": "markdown",
   "metadata": {
    "id": "s2ewPFszRbVR"
   },
   "source": [
    "# Advantages"
   ]
  },
  {
   "cell_type": "markdown",
   "metadata": {
    "id": "Gl6k7MLLRbVR"
   },
   "source": [
    "1. Recursive functions make the code look clean and elegant.\n",
    "\n",
    "2. A complex task can be broken down into simpler sub-problems using recursion.\n",
    "\n",
    "3. Sequence generation is easier with recursion than using some nested iteration.\n"
   ]
  },
  {
   "cell_type": "markdown",
   "metadata": {
    "id": "tZh9p_qrRbVS"
   },
   "source": [
    "# Disadvantages"
   ]
  },
  {
   "cell_type": "markdown",
   "metadata": {
    "id": "lzJRnnfdRbVT"
   },
   "source": [
    "1. Sometimes the logic behind recursion is hard to follow through.\n",
    "\n",
    "2. Recursive calls are expensive (inefficient) as they take up a lot of memory and time.\n",
    "\n",
    "3. Recursive functions are hard to debug.\n"
   ]
  }
 ],
 "metadata": {
  "interpreter": {
   "hash": "35da0e7af20facfa8197b8e57e81ffb6303ada97f5e843dda4e90edb7a888d3e"
  },
  "kernelspec": {
   "display_name": "Python 3.10.4 64-bit",
   "language": "python",
   "name": "python3"
  },
  "language_info": {
   "codemirror_mode": {
    "name": "ipython",
    "version": 3
   },
   "file_extension": ".py",
   "mimetype": "text/x-python",
   "name": "python",
   "nbconvert_exporter": "python",
   "pygments_lexer": "ipython3",
   "version": "3.10.4"
  },
  "orig_nbformat": 4
 },
 "nbformat": 4,
 "nbformat_minor": 2
}
