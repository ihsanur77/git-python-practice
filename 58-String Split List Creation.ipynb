{
 "cells": [
  {
   "cell_type": "markdown",
   "metadata": {
    "id": "nsmc6A1YaAbP"
   },
   "source": [
    "# String Split to create a list"
   ]
  },
  {
   "cell_type": "code",
   "execution_count": 1,
   "metadata": {
    "id": "YPLVh4TjaAbP",
    "outputId": "dc4b1445-3c8b-4aff-892b-cb1306c36499",
    "scrolled": true
   },
   "outputs": [
    {
     "name": "stdout",
     "output_type": "stream",
     "text": [
      "['one', 'two', 'three', 'four', 'five']\n"
     ]
    }
   ],
   "source": [
    "#let's take a string\n",
    "\n",
    "s = \"one,two,three,four,five\"\n",
    "slst = s.split(',')\n",
    "print(slst)"
   ]
  },
  {
   "cell_type": "code",
   "execution_count": 3,
   "metadata": {
    "id": "PBYLi_UjaAbS",
    "outputId": "222b6691-9adf-4194-b9c9-c3acb65b5509"
   },
   "outputs": [
    {
     "name": "stdout",
     "output_type": "stream",
     "text": [
      "['This', 'is', 'IHSANUR', 'RASHID']\n"
     ]
    }
   ],
   "source": [
    "s = \"This is IHSANUR RASHID\"\n",
    "split_lst = s.split() # default split is white-character: space or tab\n",
    "print(split_lst)"
   ]
  }
 ],
 "metadata": {
  "interpreter": {
   "hash": "44521239eef91ef412533c9bf5709c0023e5a891475373b731fa1259c45b7d13"
  },
  "kernelspec": {
   "display_name": "Python 3.10.4 64-bit",
   "language": "python",
   "name": "python3"
  },
  "language_info": {
   "codemirror_mode": {
    "name": "ipython",
    "version": 3
   },
   "file_extension": ".py",
   "mimetype": "text/x-python",
   "name": "python",
   "nbconvert_exporter": "python",
   "pygments_lexer": "ipython3",
   "version": "3.10.4"
  },
  "orig_nbformat": 4
 },
 "nbformat": 4,
 "nbformat_minor": 2
}
