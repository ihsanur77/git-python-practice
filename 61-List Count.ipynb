{
 "cells": [
  {
   "cell_type": "markdown",
   "metadata": {
    "id": "zR8AY0YCaAbk"
   },
   "source": [
    "# List Count"
   ]
  },
  {
   "cell_type": "code",
   "execution_count": 1,
   "metadata": {
    "id": "xLWcn0TcaAbl",
    "outputId": "ba7168f7-a97f-45d7-b123-38df8cc7c1ae"
   },
   "outputs": [
    {
     "name": "stdout",
     "output_type": "stream",
     "text": [
      "2\n",
      "2\n"
     ]
    }
   ],
   "source": [
    "numbers = [1, 2, 3, 1, 3, 4, 2, 5]\n",
    "\n",
    "#frequency of 1 in a list\n",
    "print(numbers.count(1))\n",
    "\n",
    "#frequency of 3 in a list\n",
    "print(numbers.count(3))"
   ]
  }
 ],
 "metadata": {
  "interpreter": {
   "hash": "44521239eef91ef412533c9bf5709c0023e5a891475373b731fa1259c45b7d13"
  },
  "kernelspec": {
   "display_name": "Python 3.10.4 64-bit",
   "language": "python",
   "name": "python3"
  },
  "language_info": {
   "codemirror_mode": {
    "name": "ipython",
    "version": 3
   },
   "file_extension": ".py",
   "mimetype": "text/x-python",
   "name": "python",
   "nbconvert_exporter": "python",
   "pygments_lexer": "ipython3",
   "version": "3.10.4"
  },
  "orig_nbformat": 4
 },
 "nbformat": 4,
 "nbformat_minor": 2
}
