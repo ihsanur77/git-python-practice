{
 "cells": [
  {
   "cell_type": "markdown",
   "metadata": {
    "id": "gP3lb_hlaAai"
   },
   "source": [
    "# List Append & Extend"
   ]
  },
  {
   "cell_type": "code",
   "execution_count": 1,
   "metadata": {
    "id": "AhQZ_S5WaAaj",
    "outputId": "3e023a9c-0291-4264-8c49-3d32d2a685e9"
   },
   "outputs": [
    {
     "name": "stdout",
     "output_type": "stream",
     "text": [
      "['one', 'two', 'three', 'four', ['five', 'six']]\n"
     ]
    }
   ],
   "source": [
    "lst = ['one', 'two', 'three', 'four']\n",
    "\n",
    "lst2 = ['five', 'six']\n",
    "\n",
    "#append \n",
    "lst.append(lst2)\n",
    "\n",
    "print(lst)"
   ]
  },
  {
   "cell_type": "code",
   "execution_count": 2,
   "metadata": {
    "id": "-eDRYerEaAan",
    "outputId": "dc992ec1-df5e-4190-c096-8f7b9e3b889c"
   },
   "outputs": [
    {
     "name": "stdout",
     "output_type": "stream",
     "text": [
      "['one', 'two', 'three', 'four', 'five', 'six']\n"
     ]
    }
   ],
   "source": [
    "lst = ['one', 'two', 'three', 'four']\n",
    "\n",
    "lst2 = ['five', 'six']\n",
    "\n",
    "#extend will join the list with list1\n",
    "\n",
    "lst.extend(lst2)\n",
    "\n",
    "print(lst)"
   ]
  }
 ],
 "metadata": {
  "interpreter": {
   "hash": "44521239eef91ef412533c9bf5709c0023e5a891475373b731fa1259c45b7d13"
  },
  "kernelspec": {
   "display_name": "Python 3.10.4 64-bit",
   "language": "python",
   "name": "python3"
  },
  "language_info": {
   "codemirror_mode": {
    "name": "ipython",
    "version": 3
   },
   "file_extension": ".py",
   "mimetype": "text/x-python",
   "name": "python",
   "nbconvert_exporter": "python",
   "pygments_lexer": "ipython3",
   "version": "3.10.4"
  },
  "orig_nbformat": 4
 },
 "nbformat": 4,
 "nbformat_minor": 2
}
