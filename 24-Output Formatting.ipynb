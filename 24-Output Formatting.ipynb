{
 "cells": [
  {
   "cell_type": "markdown",
   "metadata": {},
   "source": [
    "# Output Formatting"
   ]
  },
  {
   "cell_type": "code",
   "execution_count": 1,
   "metadata": {},
   "outputs": [
    {
     "name": "stdout",
     "output_type": "stream",
     "text": [
      "The value of a is 10 and b is 20\n"
     ]
    }
   ],
   "source": [
    "a = 10; b = 20 #multiple statements in single line.\n",
    "\n",
    "print(\"The value of a is {} and b is {}\".format(a, b))    #default"
   ]
  },
  {
   "cell_type": "code",
   "execution_count": 2,
   "metadata": {},
   "outputs": [
    {
     "name": "stdout",
     "output_type": "stream",
     "text": [
      "The value of b is 20 and a is 10\n"
     ]
    }
   ],
   "source": [
    "a = 10; b = 20  #multiple statements in single line\n",
    "\n",
    "print(\"The value of b is {1} and a is {0}\".format(a, b)) #specify position of arguments"
   ]
  },
  {
   "cell_type": "code",
   "execution_count": 4,
   "metadata": {},
   "outputs": [
    {
     "name": "stdout",
     "output_type": "stream",
     "text": [
      "Hello IHSANUR, Good Morning\n"
     ]
    }
   ],
   "source": [
    "#we can use keyword arguments to format the string\n",
    "print(\"Hello {name}, {greeting}\".format(name=\"IHSANUR\", greeting=\"Good Morning\"))"
   ]
  },
  {
   "cell_type": "code",
   "execution_count": 6,
   "metadata": {},
   "outputs": [
    {
     "name": "stdout",
     "output_type": "stream",
     "text": [
      "The story of IHSAN, TANVIR, and ROJONI\n"
     ]
    }
   ],
   "source": [
    "#we can combine positional arguments with keyword arguments\n",
    "print('The story of {0}, {1}, and {other}'.format('IHSAN', 'TANVIR',\n",
    "                                                       other='ROJONI'))"
   ]
  }
 ],
 "metadata": {
  "interpreter": {
   "hash": "44521239eef91ef412533c9bf5709c0023e5a891475373b731fa1259c45b7d13"
  },
  "kernelspec": {
   "display_name": "Python 3.10.4 64-bit",
   "language": "python",
   "name": "python3"
  },
  "language_info": {
   "codemirror_mode": {
    "name": "ipython",
    "version": 3
   },
   "file_extension": ".py",
   "mimetype": "text/x-python",
   "name": "python",
   "nbconvert_exporter": "python",
   "pygments_lexer": "ipython3",
   "version": "3.10.4"
  },
  "orig_nbformat": 4
 },
 "nbformat": 4,
 "nbformat_minor": 2
}
