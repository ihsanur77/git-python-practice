{
 "cells": [
  {
   "cell_type": "markdown",
   "metadata": {
    "id": "YcGKZ45BaAab"
   },
   "source": [
    "# List Remove"
   ]
  },
  {
   "cell_type": "code",
   "execution_count": 1,
   "metadata": {
    "id": "Qz9E9r6IaAac",
    "outputId": "fcdf5357-8ebb-491d-8fa9-bf0d7e45011d"
   },
   "outputs": [
    {
     "name": "stdout",
     "output_type": "stream",
     "text": [
      "['one', 'three', 'four', 'two']\n"
     ]
    }
   ],
   "source": [
    "#syntax: lst.remove(x) \n",
    "\n",
    "lst = ['one', 'two', 'three', 'four', 'two']\n",
    "\n",
    "lst.remove('two') #it will remove first occurence of 'two' in a given list\n",
    "\n",
    "print(lst)"
   ]
  }
 ],
 "metadata": {
  "interpreter": {
   "hash": "44521239eef91ef412533c9bf5709c0023e5a891475373b731fa1259c45b7d13"
  },
  "kernelspec": {
   "display_name": "Python 3.10.4 64-bit",
   "language": "python",
   "name": "python3"
  },
  "language_info": {
   "codemirror_mode": {
    "name": "ipython",
    "version": 3
   },
   "file_extension": ".py",
   "mimetype": "text/x-python",
   "name": "python",
   "nbconvert_exporter": "python",
   "pygments_lexer": "ipython3",
   "version": "3.10.4"
  },
  "orig_nbformat": 4
 },
 "nbformat": 4,
 "nbformat_minor": 2
}
