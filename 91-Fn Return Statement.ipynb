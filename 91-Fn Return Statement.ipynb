{
 "cells": [
  {
   "cell_type": "markdown",
   "metadata": {
    "id": "7bXpeRMXqx2D"
   },
   "source": [
    "# return Statement"
   ]
  },
  {
   "cell_type": "markdown",
   "metadata": {
    "id": "GoR0PNUOqx2G"
   },
   "source": [
    "The return statement is used to exit a function and go back to the place from where it was called."
   ]
  },
  {
   "cell_type": "markdown",
   "metadata": {
    "id": "XPoedgmGqx2H"
   },
   "source": [
    "Syntax:\n",
    "    \n",
    "    return [expression]"
   ]
  },
  {
   "cell_type": "markdown",
   "metadata": {
    "id": "IIkX4Y1gqx2J"
   },
   "source": [
    "-> return statement can contain an expression which gets evaluated and the value is returned.\n",
    "\n",
    "-> if there is no expression in the statement or the return statement itself is not present inside a function, then the function will return None Object"
   ]
  },
  {
   "cell_type": "code",
   "execution_count": 1,
   "metadata": {
    "id": "e8JqjPNvqx2L"
   },
   "outputs": [],
   "source": [
    "def get_sum(lst):\n",
    "    \"\"\"\n",
    "    This function returns the sum of all the elements in a list\n",
    "    \"\"\"\n",
    "    #initialize sum\n",
    "    _sum = 0\n",
    "    \n",
    "    #iterating over the list\n",
    "    for num in lst:\n",
    "        _sum += num\n",
    "    return _sum\n"
   ]
  },
  {
   "cell_type": "code",
   "execution_count": 2,
   "metadata": {
    "id": "9tKmO0IQqx2T",
    "outputId": "c682c536-157f-449c-9e75-9568e9874636"
   },
   "outputs": [
    {
     "name": "stdout",
     "output_type": "stream",
     "text": [
      "10\n"
     ]
    }
   ],
   "source": [
    "s = get_sum([1, 2, 3, 4])\n",
    "print(s)\n"
   ]
  },
  {
   "cell_type": "code",
   "execution_count": 3,
   "metadata": {
    "id": "aJ2e31Jrqx2Y",
    "outputId": "c56387e6-ba8a-4428-dbb2-d8173e75649b"
   },
   "outputs": [
    {
     "name": "stdout",
     "output_type": "stream",
     "text": [
      "\n",
      "    This function returns the sum of all the elements in a list\n",
      "    \n"
     ]
    }
   ],
   "source": [
    "#print doc string\n",
    "print(get_sum.__doc__)\n"
   ]
  }
 ],
 "metadata": {
  "interpreter": {
   "hash": "35da0e7af20facfa8197b8e57e81ffb6303ada97f5e843dda4e90edb7a888d3e"
  },
  "kernelspec": {
   "display_name": "Python 3.10.4 64-bit",
   "language": "python",
   "name": "python3"
  },
  "language_info": {
   "codemirror_mode": {
    "name": "ipython",
    "version": 3
   },
   "file_extension": ".py",
   "mimetype": "text/x-python",
   "name": "python",
   "nbconvert_exporter": "python",
   "pygments_lexer": "ipython3",
   "version": "3.10.4"
  },
  "orig_nbformat": 4
 },
 "nbformat": 4,
 "nbformat_minor": 2
}
