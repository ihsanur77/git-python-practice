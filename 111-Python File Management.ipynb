{
 "cells": [
  {
   "cell_type": "markdown",
   "metadata": {
    "colab_type": "text",
    "id": "9BTPHgEb-I-m"
   },
   "source": [
    "# Python Directory and File Management"
   ]
  },
  {
   "cell_type": "markdown",
   "metadata": {
    "colab_type": "text",
    "id": "gI0frFSc-I-n"
   },
   "source": [
    "If there are a large number of files to handle in your Python program, you can arrange your code within different directories to make things more manageable.\n",
    "\n",
    "A directory or folder is a collection of files and sub directories. Python has the os module, which provides us with many useful methods to work with directories (and files as well)."
   ]
  },
  {
   "cell_type": "markdown",
   "metadata": {
    "colab_type": "text",
    "id": "RX2Gd4dH-I-o"
   },
   "source": [
    "**Get current Directory**"
   ]
  },
  {
   "cell_type": "markdown",
   "metadata": {
    "colab_type": "text",
    "id": "dXkTmder-I-p"
   },
   "source": [
    "We can get the present working directory using the getcwd() method.\n",
    "\n",
    "This method returns the current working directory in the form of a string. "
   ]
  },
  {
   "cell_type": "code",
   "execution_count": null,
   "metadata": {
    "colab": {},
    "colab_type": "code",
    "id": "PQQ1bB7K-I-q",
    "outputId": "e5741e90-7351-40cb-822a-1101b0a5b38a"
   },
   "outputs": [
    {
     "data": {
      "text/plain": [
       "'/Users/varma/Google Drive/OnlineVideos/2/python-basics/File Operation'"
      ]
     },
     "metadata": {},
     "output_type": "display_data"
    }
   ],
   "source": [
    "import os\n",
    "os.getcwd()"
   ]
  },
  {
   "cell_type": "markdown",
   "metadata": {
    "colab_type": "text",
    "id": "NbwyLh4v-I-t"
   },
   "source": [
    "**Changing Directory**"
   ]
  },
  {
   "cell_type": "markdown",
   "metadata": {
    "colab_type": "text",
    "id": "wJYX56-D-I-u"
   },
   "source": [
    "We can change the current working directory using the chdir() method.\n",
    "\n",
    "The new path that we want to change to must be supplied as a string to this method. We can use both forward slash (/) or the backward slash (\\) to separate path elements."
   ]
  },
  {
   "cell_type": "code",
   "execution_count": null,
   "metadata": {
    "colab": {},
    "colab_type": "code",
    "id": "adRHTncO-I-u"
   },
   "outputs": [],
   "source": [
    "os.chdir(\"/Users/varma/\")"
   ]
  },
  {
   "cell_type": "code",
   "execution_count": null,
   "metadata": {
    "colab": {},
    "colab_type": "code",
    "id": "STo5qfdl-I-w",
    "outputId": "80fb501d-e356-4bd6-c8bb-aa17fdc65f7d"
   },
   "outputs": [
    {
     "data": {
      "text/plain": [
       "'/Users/varma'"
      ]
     },
     "metadata": {},
     "output_type": "display_data"
    }
   ],
   "source": [
    "os.getcwd()"
   ]
  },
  {
   "cell_type": "markdown",
   "metadata": {
    "colab_type": "text",
    "id": "GnL096oQ-I-z"
   },
   "source": [
    "**List Directories and Files**"
   ]
  },
  {
   "cell_type": "markdown",
   "metadata": {
    "colab_type": "text",
    "id": "k8VhcECb-I-z"
   },
   "source": [
    "All files and sub directories inside a directory can be known using the listdir() method."
   ]
  },
  {
   "cell_type": "code",
   "execution_count": null,
   "metadata": {
    "colab": {},
    "colab_type": "code",
    "id": "RMt4M70i-I-0",
    "outputId": "a884c903-1ccf-4fbe-c6d4-9770ce06538b"
   },
   "outputs": [
    {
     "data": {
      "text/plain": [
       "['.bash_history',\n",
       " '.bash_sessions',\n",
       " '.bashrc',\n",
       " '.cache',\n",
       " '.CFUserTextEncoding',\n",
       " '.config',\n",
       " '.DS_Store',\n",
       " '.ipynb_checkpoints',\n",
       " '.ipython',\n",
       " '.jupyter',\n",
       " '.keras',\n",
       " '.lesshst',\n",
       " '.macports',\n",
       " '.matplotlib',\n",
       " '.octave_hist',\n",
       " '.octave_packages',\n",
       " '.oracle_jre_usage',\n",
       " '.plotly',\n",
       " '.profile',\n",
       " '.profile.pysave',\n",
       " '.python_history',\n",
       " '.Rhistory',\n",
       " '.rstudio-desktop',\n",
       " '.subversion',\n",
       " '.Trash',\n",
       " '.viminfo',\n",
       " '.wacom',\n",
       " '1.pdf',\n",
       " '2.pdf',\n",
       " 'AAIC_team.ink2go',\n",
       " 'AAIC_VarmaLaptop',\n",
       " 'Applications',\n",
       " 'Bishop - Pattern Recognition And Machine Learning - Springer  2006.pdf',\n",
       " 'Desktop',\n",
       " 'Documents',\n",
       " 'Downloads',\n",
       " 'Google Drive',\n",
       " 'Google Drive_preethi_listdit',\n",
       " 'iiot_data',\n",
       " 'iris.csv',\n",
       " 'khoj_overview.mp4',\n",
       " 'Library',\n",
       " 'Movies',\n",
       " 'Music',\n",
       " 'nltk_data',\n",
       " 'octave',\n",
       " 'octave-workspace',\n",
       " 'Pictures',\n",
       " 'Public',\n",
       " 'RaudraReg',\n",
       " 'scikit_learn_data',\n",
       " 'untitled folder',\n",
       " 'Untitled.ipynb']"
      ]
     },
     "metadata": {},
     "output_type": "display_data"
    }
   ],
   "source": [
    "os.listdir(os.getcwd())"
   ]
  },
  {
   "cell_type": "markdown",
   "metadata": {
    "colab_type": "text",
    "id": "aAju12lk-I-3"
   },
   "source": [
    "**Making New Directory**"
   ]
  },
  {
   "cell_type": "markdown",
   "metadata": {
    "colab_type": "text",
    "id": "_sbXkYLl-I-4"
   },
   "source": [
    "We can make a new directory using the mkdir() method.\n",
    "\n",
    "This method takes in the path of the new directory. If the full path is not specified, the new directory is created in the current working directory."
   ]
  },
  {
   "cell_type": "code",
   "execution_count": null,
   "metadata": {
    "colab": {},
    "colab_type": "code",
    "collapsed": true,
    "id": "V0mfK9V9-I-5"
   },
   "outputs": [],
   "source": [
    "os.mkdir('test')"
   ]
  },
  {
   "cell_type": "markdown",
   "metadata": {
    "colab_type": "text",
    "id": "8hMr4f93-I-8"
   },
   "source": [
    "However, note that rmdir() method can only remove empty directories.\n",
    "\n",
    "In order to remove a non-empty directory we can use the rmtree() method inside the shutil module."
   ]
  },
  {
   "cell_type": "code",
   "execution_count": null,
   "metadata": {
    "colab": {},
    "colab_type": "code",
    "id": "1ZPkqVtz-I-9",
    "scrolled": true
   },
   "outputs": [],
   "source": [
    "os.rmdir('test')"
   ]
  },
  {
   "cell_type": "code",
   "execution_count": null,
   "metadata": {
    "colab": {},
    "colab_type": "code",
    "id": "DSSYlZ3q-I_B",
    "outputId": "7c38c971-ca52-426e-dcbd-68341bcdd80a"
   },
   "outputs": [
    {
     "ename": "OSError",
     "evalue": "[Errno 66] Directory not empty: 'test'",
     "output_type": "error",
     "traceback": [
      "\u001b[0;31m---------------------------------------------------------------------------\u001b[0m\n",
      "\u001b[0;31mOSError\u001b[0m                                   Traceback (most recent call last)\n",
      "\u001b[0;32m<ipython-input-39-a990945f349d>\u001b[0m in \u001b[0;36m<module>\u001b[0;34m()\u001b[0m\n",
      "\u001b[1;32m      6\u001b[0m \u001b[0mf\u001b[0m\u001b[0;34m.\u001b[0m\u001b[0mwrite\u001b[0m\u001b[0;34m(\u001b[0m\u001b[0;34m\"Hello World\"\u001b[0m\u001b[0;34m)\u001b[0m\u001b[0;34m\u001b[0m\u001b[0m\n",
      "\u001b[1;32m      7\u001b[0m \u001b[0mos\u001b[0m\u001b[0;34m.\u001b[0m\u001b[0mchdir\u001b[0m\u001b[0;34m(\u001b[0m\u001b[0;34m\"../\"\u001b[0m\u001b[0;34m)\u001b[0m\u001b[0;34m\u001b[0m\u001b[0m\n",
      "\u001b[0;32m----> 8\u001b[0;31m \u001b[0mos\u001b[0m\u001b[0;34m.\u001b[0m\u001b[0mrmdir\u001b[0m\u001b[0;34m(\u001b[0m\u001b[0;34m'test'\u001b[0m\u001b[0;34m)\u001b[0m\u001b[0;34m\u001b[0m\u001b[0m\n",
      "\u001b[0m\u001b[1;32m      9\u001b[0m \u001b[0;34m\u001b[0m\u001b[0m\n",
      "\u001b[1;32m     10\u001b[0m \u001b[0;34m\u001b[0m\u001b[0m\n",
      "\n",
      "\u001b[0;31mOSError\u001b[0m: [Errno 66] Directory not empty: 'test'"
     ]
    }
   ],
   "source": [
    "import shutil\n",
    "\n",
    "os.mkdir('test')\n",
    "os.chdir('./test')\n",
    "f = open(\"testfile.txt\",'w')\n",
    "f.write(\"Hello World\")\n",
    "os.chdir(\"../\")\n",
    "os.rmdir('test')\n"
   ]
  },
  {
   "cell_type": "code",
   "execution_count": null,
   "metadata": {
    "colab": {},
    "colab_type": "code",
    "collapsed": true,
    "id": "vki1ogpm-I_H"
   },
   "outputs": [],
   "source": [
    "# remove an non-empty directory\n",
    "shutil.rmtree('test')"
   ]
  },
  {
   "cell_type": "code",
   "execution_count": null,
   "metadata": {
    "colab": {},
    "colab_type": "code",
    "id": "f_1n9fZU-I_K",
    "outputId": "1a328918-f87f-401a-f8b4-f35a5eea531d"
   },
   "outputs": [
    {
     "data": {
      "text/plain": [
       "'/Users/varma'"
      ]
     },
     "metadata": {},
     "output_type": "display_data"
    }
   ],
   "source": [
    "os.getcwd()"
   ]
  }
 ],
 "metadata": {
  "interpreter": {
   "hash": "35da0e7af20facfa8197b8e57e81ffb6303ada97f5e843dda4e90edb7a888d3e"
  },
  "kernelspec": {
   "display_name": "Python 3.10.4 64-bit",
   "language": "python",
   "name": "python3"
  },
  "language_info": {
   "name": "python",
   "version": "3.10.4"
  },
  "orig_nbformat": 4
 },
 "nbformat": 4,
 "nbformat_minor": 2
}
