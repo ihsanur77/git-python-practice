{
 "cells": [
  {
   "cell_type": "markdown",
   "metadata": {
    "id": "2R97ADiFQ0Qq"
   },
   "source": [
    "# Strings"
   ]
  },
  {
   "cell_type": "markdown",
   "metadata": {
    "id": "eVUSlgdsQ0Qs"
   },
   "source": [
    "    A string is a sequence of characters.\n",
    "\n",
    "    Computers do not deal with characters, they deal with numbers (binary). Even though you may see characters on your screen, internally it is stored and manipulated as a combination of 0's and 1's.\n",
    "\n",
    "    This conversion of character to a number is called encoding, and the reverse process is decoding. ASCII and Unicode are some of the popular encoding used.\n",
    "\n",
    "    In Python, string is a sequence of Unicode character."
   ]
  },
  {
   "cell_type": "markdown",
   "metadata": {
    "id": "G_fSxHayQ0Qu"
   },
   "source": [
    "For more details about unicode \n",
    "\n",
    "https://docs.python.org/3.3/howto/unicode.html"
   ]
  },
  {
   "cell_type": "markdown",
   "metadata": {
    "id": "d2ZdcRphQ0Qv"
   },
   "source": [
    "# How to create a string?"
   ]
  },
  {
   "cell_type": "markdown",
   "metadata": {
    "id": "kVww6WnaQ0Qw"
   },
   "source": [
    "Strings can be created by enclosing characters inside a single quote or double quotes. \n",
    "\n",
    "Even triple quotes can be used in Python but generally used to represent multiline strings and docstrings.\n"
   ]
  },
  {
   "cell_type": "code",
   "execution_count": 1,
   "metadata": {
    "id": "8OM3IOK2Q0Qy",
    "outputId": "01582439-98f6-42aa-814d-9b6fc38ebafd"
   },
   "outputs": [
    {
     "name": "stdout",
     "output_type": "stream",
     "text": [
      "Hello\n",
      "Hello\n",
      "Hello\n"
     ]
    }
   ],
   "source": [
    "myString = 'Hello'\n",
    "\n",
    "print(myString)\n",
    "\n",
    "\n",
    "myString = \"Hello\"\n",
    "print(myString)\n",
    "\n",
    "\n",
    "myString = '''Hello'''\n",
    "print(myString)"
   ]
  }
 ],
 "metadata": {
  "interpreter": {
   "hash": "44521239eef91ef412533c9bf5709c0023e5a891475373b731fa1259c45b7d13"
  },
  "kernelspec": {
   "display_name": "Python 3.10.4 64-bit",
   "language": "python",
   "name": "python3"
  },
  "language_info": {
   "codemirror_mode": {
    "name": "ipython",
    "version": 3
   },
   "file_extension": ".py",
   "mimetype": "text/x-python",
   "name": "python",
   "nbconvert_exporter": "python",
   "pygments_lexer": "ipython3",
   "version": "3.10.4"
  },
  "orig_nbformat": 4
 },
 "nbformat": 4,
 "nbformat_minor": 2
}
